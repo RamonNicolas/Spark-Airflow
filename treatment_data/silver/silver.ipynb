{
 "cells": [
  {
   "cell_type": "markdown",
   "id": "d0d85d5e",
   "metadata": {},
   "source": [
    "## Start the treament a data and Read csv with spark"
   ]
  },
  {
   "cell_type": "code",
   "execution_count": 127,
   "id": "2d086bf8",
   "metadata": {},
   "outputs": [],
   "source": [
    "from pyspark.sql import SparkSession\n",
    "\n",
    "path = \"../inbound/Top5000.csv\"\n",
    "spark = SparkSession.builder.getOrCreate()\n",
    "df_silver = spark.read.format(\"csv\").option(\"inferSchema\", \"True\").option(\"header\", \"True\").csv(path)"
   ]
  },
  {
   "cell_type": "code",
   "execution_count": 128,
   "id": "efc969fe",
   "metadata": {},
   "outputs": [
    {
     "data": {
      "text/plain": [
       "DataFrame[_c0: int, ars_name: string, rel_date: string, gens: string, descs: string, avg_rat: double, num_rat: string, num_revs: int, album: string, acousticness: double, danceability: double, energy: double, instrumentalness: double, liveness: double, loudness: double, speechiness: double, tempo: double, valence: double, duration_ms: double, time_signature: double]"
      ]
     },
     "execution_count": 128,
     "metadata": {},
     "output_type": "execute_result"
    }
   ],
   "source": [
    "df_silver"
   ]
  },
  {
   "cell_type": "markdown",
   "id": "817b8489",
   "metadata": {},
   "source": [
    "##### Remove column with inferSchema dont detected"
   ]
  },
  {
   "cell_type": "code",
   "execution_count": 129,
   "id": "6289b67b",
   "metadata": {},
   "outputs": [],
   "source": [
    "df_silver = df_silver.drop(\"_c0\")"
   ]
  },
  {
   "cell_type": "code",
   "execution_count": 130,
   "id": "a9b775cd",
   "metadata": {},
   "outputs": [
    {
     "name": "stdout",
     "output_type": "stream",
     "text": [
      "+--------------------+-----------------+--------------------+--------------------+-------+-------+--------+--------------------+-------------------+-------------------+------------------+--------------------+-------------------+-------------------+--------------------+------------------+-------------------+------------------+------------------+\n",
      "|            ars_name|         rel_date|                gens|               descs|avg_rat|num_rat|num_revs|               album|       acousticness|       danceability|            energy|    instrumentalness|           liveness|           loudness|         speechiness|             tempo|            valence|       duration_ms|    time_signature|\n",
      "+--------------------+-----------------+--------------------+--------------------+-------+-------+--------+--------------------+-------------------+-------------------+------------------+--------------------+-------------------+-------------------+--------------------+------------------+-------------------+------------------+------------------+\n",
      "|           Radiohead|     16 June 1997|Alternative Rock,...|melancholic, anxi...|   4.23| 70,382|    1531|         OK Computer|0.13576258333333333| 0.2880833333333333|0.5659166666666666| 0.16105276666666668|           0.159375| -9.102416666666667|0.056308333333333335|         115.45075|0.29173333333333334|          268435.5|               4.0|\n",
      "|          Pink Floyd|12 September 1975|Progressive Rock,...|melancholic, atmo...|   4.29| 48,662|     983|  Wish You Were Here|             0.6028|             0.3736|            0.4098| 0.36304000000000003|            0.38494|-12.689400000000001|             0.03974|          130.0188|            0.25904|          530512.0|               3.6|\n",
      "|        King Crimson|  10 October 1969|Progressive Rock,...|fantasy, epic, pr...|    4.3| 44,943|     870|In the Court of t...|         0.29768625|           0.340625|          0.370475| 0.32726500000000003|          0.1491375|         -14.873125|           0.0434625|        118.920625|             0.2794|        507644.125|             3.875|\n",
      "|           Radiohead|   3 October 2000|Art Rock, Experim...|cold, melancholic...|   4.21| 58,590|     734|               Kid A|0.12321858823529412| 0.6012941176470589|0.6767058823529412|6.690170588235294E-4|0.31141176470588233| -7.811941176470588| 0.26831764705882355|116.04505882352942| 0.3982058823529412| 325379.5294117647|4.0588235294117645|\n",
      "|      Kendrick Lamar|    15 March 2015|Conscious Hip Hop...|political, consci...|   4.27| 44,206|     379| To Pimp a Butterfly|         0.32288875|            0.59075|0.7076250000000001|        1.0789375E-5|         0.31841875|         -5.8020625|            0.294175|       103.4445625|          0.4871875|         296225.75|            3.8125|\n",
      "| My Bloody Valentine|  4 November 1991| Shoegaze, Noise Pop|noisy, ethereal, ...|   4.24| 49,887|    1223|            Loveless|0.18559262818181818| 0.2270090909090909|0.6153636363636363|  0.7870909090909091|0.23855454545454546|-13.224727272727273| 0.04943636363636363|119.81609090909092| 0.2869181818181818|          265148.0|3.6363636363636362|\n",
      "|          Pink Floyd|    23 March 1973|Art Rock, Progres...|philosophical, at...|    4.2| 57,622|    1549|The Dark Side of ...|            0.39031|              0.383|           0.40045|            0.595929|            0.23768|           -15.7019|             0.05866|          120.0662|            0.27283|          257363.6|               3.7|\n",
      "|         The Beatles|26 September 1969|            Pop Rock|melodic, warm, ma...|   4.25| 44,544|     961|          Abbey Road|0.22496411764705881|              0.518|0.4571764705882353| 0.12280226588235295|0.17771764705882354|-11.344411764705882| 0.04731176470588235|118.16676470588236| 0.4591764705882353|167629.82352941178|3.6470588235294117|\n",
      "|The Velvet Underg...|    12 March 1967|Art Rock, Experim...|drugs, sexual, ra...|   4.23| 45,570|     929|The Velvet Underg...| 0.2672949090909091|0.42854545454545456|0.5488181818181818| 0.32993907818181817|0.09843636363636364|-11.624363636363636| 0.05444545454545455|117.92381818181818| 0.4509090909090909|267008.36363636365|3.8181818181818183|\n",
      "|         David Bowie|     16 June 1972| Glam Rock, Pop Rock|science fiction, ...|   4.26| 39,501|     721|The Rise and Fall...|0.17872727272727273| 0.5027272727272727|0.5290909090909091|0.003446426363636...|0.21008181818181818|-10.998545454545454| 0.04192727272727273|116.96909090909091| 0.5497272727272727|          210837.0|3.8181818181818183|\n",
      "+--------------------+-----------------+--------------------+--------------------+-------+-------+--------+--------------------+-------------------+-------------------+------------------+--------------------+-------------------+-------------------+--------------------+------------------+-------------------+------------------+------------------+\n",
      "only showing top 10 rows\n",
      "\n"
     ]
    },
    {
     "data": {
      "text/plain": [
       "None"
      ]
     },
     "metadata": {},
     "output_type": "display_data"
    }
   ],
   "source": [
    "display(df_silver.show(10))"
   ]
  },
  {
   "cell_type": "markdown",
   "id": "1d072792",
   "metadata": {},
   "source": [
    "##### Orderby duration with ascendent"
   ]
  },
  {
   "cell_type": "code",
   "execution_count": 131,
   "id": "8afbbeb2",
   "metadata": {},
   "outputs": [
    {
     "data": {
      "text/plain": [
       "DataFrame[ars_name: string, rel_date: string, gens: string, descs: string, avg_rat: double, num_rat: string, num_revs: int, album: string, acousticness: double, danceability: double, energy: double, instrumentalness: double, liveness: double, loudness: double, speechiness: double, tempo: double, valence: double, duration_ms: double, time_signature: double]"
      ]
     },
     "execution_count": 131,
     "metadata": {},
     "output_type": "execute_result"
    }
   ],
   "source": [
    "from pyspark.sql.functions import *\n",
    "\n",
    "df_silver = df_silver.orderBy(expr(\"duration_ms asc\"))\n",
    "df_silver"
   ]
  },
  {
   "cell_type": "markdown",
   "id": "32200ff2",
   "metadata": {},
   "source": [
    "##### Renamed Column"
   ]
  },
  {
   "cell_type": "code",
   "execution_count": 132,
   "id": "104ebd25",
   "metadata": {},
   "outputs": [],
   "source": [
    "df_silver = df_silver.withColumnRenamed(\"gens\", \"genero\")"
   ]
  },
  {
   "cell_type": "markdown",
   "id": "8b8c731e",
   "metadata": {},
   "source": [
    "##### Show all columns"
   ]
  },
  {
   "cell_type": "code",
   "execution_count": 133,
   "id": "690fc41b",
   "metadata": {},
   "outputs": [
    {
     "data": {
      "text/plain": [
       "['ars_name',\n",
       " 'rel_date',\n",
       " 'genero',\n",
       " 'descs',\n",
       " 'avg_rat',\n",
       " 'num_rat',\n",
       " 'num_revs',\n",
       " 'album',\n",
       " 'acousticness',\n",
       " 'danceability',\n",
       " 'energy',\n",
       " 'instrumentalness',\n",
       " 'liveness',\n",
       " 'loudness',\n",
       " 'speechiness',\n",
       " 'tempo',\n",
       " 'valence',\n",
       " 'duration_ms',\n",
       " 'time_signature']"
      ]
     },
     "execution_count": 133,
     "metadata": {},
     "output_type": "execute_result"
    }
   ],
   "source": [
    "df_silver.columns"
   ]
  },
  {
   "cell_type": "markdown",
   "id": "fb8026b3",
   "metadata": {},
   "source": [
    "##### Transform Dataframe in iterable"
   ]
  },
  {
   "cell_type": "code",
   "execution_count": 134,
   "id": "6a24c1bb",
   "metadata": {},
   "outputs": [],
   "source": [
    "df_silver_iterable = df_silver.collect()"
   ]
  },
  {
   "cell_type": "markdown",
   "id": "a10092fd",
   "metadata": {},
   "source": [
    "##### Create a new Dataframe passing only gens rock"
   ]
  },
  {
   "cell_type": "code",
   "execution_count": 148,
   "id": "34777a58",
   "metadata": {},
   "outputs": [],
   "source": [
    "df_silver_genero_rock = []\n",
    "for y,x in enumerate(df_silver_iterable):\n",
    "    if 'Rock' in x['genero']:\n",
    "        df_silver_genero_rock.append(x)\n",
    "df_silver_genero_rock = spark.createDataFrame(df_silver_genero_rock)"
   ]
  },
  {
   "cell_type": "code",
   "execution_count": 151,
   "id": "c3fcf5b8",
   "metadata": {},
   "outputs": [
    {
     "name": "stdout",
     "output_type": "stream",
     "text": [
      "+--------+-------------+--------------------+--------------------+-------+-------+--------+---------------+------------+------------+------+----------------+--------+--------+-----------+-------+-------+-----------+--------------+\n",
      "|ars_name|     rel_date|              genero|               descs|avg_rat|num_rat|num_revs|          album|acousticness|danceability|energy|instrumentalness|liveness|loudness|speechiness|  tempo|valence|duration_ms|time_signature|\n",
      "+--------+-------------+--------------------+--------------------+-------+-------+--------+---------------+------------+------------+------+----------------+--------+--------+-----------+-------+-------+-----------+--------------+\n",
      "|   Atila|         1976|    Progressive Rock|                null|   3.71|    265|      12|      Intención|       0.836|       0.726| 0.341|         2.44E-4|   0.112| -17.138|      0.364|180.151|  0.777|    39765.0|           4.0|\n",
      "| Fantasy|December 1973|Progressive Rock,...|melodic, progress...|   3.74|    374|      23|Paint a Picture|       0.475|       0.683| 0.677|             0.0|   0.937|  -8.056|      0.485| 81.156|  0.922|    47229.0|           4.0|\n",
      "+--------+-------------+--------------------+--------------------+-------+-------+--------+---------------+------------+------------+------+----------------+--------+--------+-----------+-------+-------+-----------+--------------+\n",
      "only showing top 2 rows\n",
      "\n"
     ]
    },
    {
     "data": {
      "text/plain": [
       "None"
      ]
     },
     "metadata": {},
     "output_type": "display_data"
    }
   ],
   "source": [
    "display(df_silver_genero_rock.show(2))"
   ]
  }
 ],
 "metadata": {
  "kernelspec": {
   "display_name": "Python 3.9.2 64-bit",
   "language": "python",
   "name": "python3"
  },
  "language_info": {
   "codemirror_mode": {
    "name": "ipython",
    "version": 3
   },
   "file_extension": ".py",
   "mimetype": "text/x-python",
   "name": "python",
   "nbconvert_exporter": "python",
   "pygments_lexer": "ipython3",
   "version": "3.9.2"
  },
  "vscode": {
   "interpreter": {
    "hash": "e7370f93d1d0cde622a1f8e1c04877d8463912d04d973331ad4851f04de6915a"
   }
  }
 },
 "nbformat": 4,
 "nbformat_minor": 5
}
