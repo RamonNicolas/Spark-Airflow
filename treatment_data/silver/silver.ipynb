{
 "cells": [
  {
   "cell_type": "markdown",
   "id": "d0d85d5e",
   "metadata": {},
   "source": [
    "## Start the treament a data and Read csv with spark"
   ]
  },
  {
   "cell_type": "code",
   "execution_count": null,
   "id": "2d086bf8",
   "metadata": {},
   "outputs": [],
   "source": [
    "from pyspark.sql import SparkSession\n",
    "\n",
    "path = \"../inbound/Top5000.csv\"\n",
    "spark = SparkSession.builder.getOrCreate()\n",
    "df_silver = spark.read.format(\"csv\").option(\"inferSchema\", \"True\").option(\"header\", \"True\").csv(path)"
   ]
  },
  {
   "cell_type": "code",
   "execution_count": null,
   "id": "efc969fe",
   "metadata": {},
   "outputs": [],
   "source": [
    "df_silver"
   ]
  },
  {
   "cell_type": "markdown",
   "id": "817b8489",
   "metadata": {},
   "source": [
    "##### Remove column with inferSchema dont detected"
   ]
  },
  {
   "cell_type": "code",
   "execution_count": null,
   "id": "6289b67b",
   "metadata": {},
   "outputs": [],
   "source": [
    "df_silver = df_silver.drop(\"_c0\")"
   ]
  },
  {
   "cell_type": "code",
   "execution_count": null,
   "id": "a9b775cd",
   "metadata": {},
   "outputs": [],
   "source": [
    "display(df_silver.show(10))"
   ]
  },
  {
   "cell_type": "markdown",
   "id": "1d072792",
   "metadata": {},
   "source": [
    "##### Orderby duration with ascendent"
   ]
  },
  {
   "cell_type": "code",
   "execution_count": null,
   "id": "8afbbeb2",
   "metadata": {},
   "outputs": [],
   "source": [
    "from pyspark.sql.functions import *\n",
    "\n",
    "df_silver = df_silver.orderBy(expr(\"duration_ms asc\"))\n",
    "df_silver"
   ]
  },
  {
   "cell_type": "markdown",
   "id": "32200ff2",
   "metadata": {},
   "source": [
    "##### Renamed Column"
   ]
  },
  {
   "cell_type": "code",
   "execution_count": null,
   "id": "104ebd25",
   "metadata": {},
   "outputs": [],
   "source": [
    "df_silver = df_silver.withColumnRenamed(\"gens\", \"genero\")"
   ]
  },
  {
   "cell_type": "markdown",
   "id": "8b8c731e",
   "metadata": {},
   "source": [
    "##### Show all columns"
   ]
  },
  {
   "cell_type": "code",
   "execution_count": null,
   "id": "690fc41b",
   "metadata": {},
   "outputs": [],
   "source": [
    "df_silver.columns"
   ]
  },
  {
   "cell_type": "markdown",
   "id": "fb8026b3",
   "metadata": {},
   "source": [
    "##### Transform Dataframe in iterable"
   ]
  },
  {
   "cell_type": "code",
   "execution_count": null,
   "id": "6a24c1bb",
   "metadata": {},
   "outputs": [],
   "source": [
    "df_silver_iterable = df_silver.collect()"
   ]
  },
  {
   "cell_type": "markdown",
   "id": "a10092fd",
   "metadata": {},
   "source": [
    "##### Create a new Dataframe passing only gens rock"
   ]
  },
  {
   "cell_type": "code",
   "execution_count": null,
   "id": "34777a58",
   "metadata": {},
   "outputs": [],
   "source": [
    "df_silver_genero_rock = []\n",
    "for y,x in enumerate(df_silver_iterable):\n",
    "    if 'Rock' in x['genero']:\n",
    "        df_silver_genero_rock.append(x)\n",
    "df_silver_genero_rock = spark.createDataFrame(df_silver_genero_rock)"
   ]
  }
 ],
 "metadata": {
  "kernelspec": {
   "display_name": "Python 3.9.2 64-bit",
   "language": "python",
   "name": "python3"
  },
  "language_info": {
   "codemirror_mode": {
    "name": "ipython",
    "version": 3
   },
   "file_extension": ".py",
   "mimetype": "text/x-python",
   "name": "python",
   "nbconvert_exporter": "python",
   "pygments_lexer": "ipython3",
   "version": "3.9.2"
  },
  "vscode": {
   "interpreter": {
    "hash": "e7370f93d1d0cde622a1f8e1c04877d8463912d04d973331ad4851f04de6915a"
   }
  }
 },
 "nbformat": 4,
 "nbformat_minor": 5
}
