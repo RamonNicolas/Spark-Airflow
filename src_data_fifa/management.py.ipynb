{
 "cells": [
  {
   "cell_type": "markdown",
   "id": "0ebf2a36",
   "metadata": {},
   "source": [
    "\n",
    "#### Ecrever, alterar e mexer nos dados, sem alterar o original."
   ]
  },
  {
   "cell_type": "code",
   "execution_count": 2,
   "id": "d57d0936",
   "metadata": {},
   "outputs": [],
   "source": [
    "from datetime import datetime, date\n",
    "import pandas as pd\n",
    "\n",
    "fifa_df = pd.read_csv(\"../datas/fifa20.csv\", low_memory=False)\n",
    "fifa_df_name = fifa_df['Name']\n",
    "fifa_df_image = fifa_df['Image']\n"
   ]
  },
  {
   "cell_type": "markdown",
   "id": "7ce549b9",
   "metadata": {},
   "source": [
    "##### Trocando a imagem do DF novo denominado fifa_df na posição do nome para uma imagem engraçada, sem alterar o DF original."
   ]
  },
  {
   "cell_type": "code",
   "execution_count": null,
   "id": "11c6960e",
   "metadata": {},
   "outputs": [],
   "source": [
    "def troca_imagem_messi():\n",
    "    for name, names in enumerate(fifa_df_name):\n",
    "        if names == \"Lionel Messi\":\n",
    "            messicareca = \"https://i.pinimg.com/280x280_RS/92/f2/9d/92f29ddb610a258421da8f5261f099d6.jpg\"\n",
    "            fifa_df_image[name] = messicareca\n",
    "            print(f\"{names} Imagem {fifa_df_image[name]}\")\n",
    "troca_imagem_messi()"
   ]
  },
  {
   "cell_type": "markdown",
   "id": "633a734c",
   "metadata": {},
   "source": [
    "##### Trocando a imagem do DF novo denominado fifa_df na posição do nome para uma imagem engraçada, sem alterar o DF original."
   ]
  },
  {
   "cell_type": "code",
   "execution_count": null,
   "id": "01f4246b",
   "metadata": {},
   "outputs": [],
   "source": [
    "def troca_imagem_cr7():\n",
    "    cr7_facao = \"https://yt3.ggpht.com/7FnNlf1g2ixEYssNuKlkEjgsycrX0ojQq2cuxBcRPkTc0v_1iEPY79hGk4OBKLY6DTJkSJFB=s900-c-k-c0x00ffffff-no-rj\"\n",
    "    for name, names in enumerate(fifa_df_name):\n",
    "        if names == \"C. Ronaldo dos Santos Aveiro\":\n",
    "            fifa_df_image[name] = cr7_facao\n",
    "            print(f\"{names} Imagem {fifa_df_image[name]}\")\n",
    "troca_imagem_cr7()"
   ]
  },
  {
   "cell_type": "markdown",
   "id": "5fd1b406",
   "metadata": {},
   "source": [
    "##### Pegando somente jogadores Argentinos"
   ]
  },
  {
   "cell_type": "code",
   "execution_count": null,
   "id": "cc8ae341",
   "metadata": {},
   "outputs": [],
   "source": [
    "def jogadores_argentinos():\n",
    "    paises = fifa_df['Country']\n",
    "    fifa_df_name = fifa_df['Name']\n",
    "    for arg, argentinos in enumerate(paises):\n",
    "        hermanos = []\n",
    "        if argentinos == \"Argentina\":\n",
    "            hermanos.append(argentinos)\n",
    "            hermanos.append(fifa_df_name[arg])\n",
    "            hermanos.append(fifa_df_image[arg])\n",
    "            hermanos.append(fifa_df['Age'][arg])\n",
    "            hermanos.append(fifa_df['Club'][arg])\n",
    "            print(hermanos)\n",
    "jogadores_argentinos()"
   ]
  },
  {
   "cell_type": "markdown",
   "id": "11407999",
   "metadata": {},
   "source": [
    "##### Pegando somente jogadores do Brasil, appendando uma string no final de todos os jogadores, que possuem \"SM\" acima ou igual 4. Sendo o máximo 5"
   ]
  },
  {
   "cell_type": "code",
   "execution_count": null,
   "id": "ee1d2e71",
   "metadata": {},
   "outputs": [],
   "source": [
    "def jogadores_br():\n",
    "    paises = fifa_df['Country']\n",
    "    for br, brs in enumerate(paises):\n",
    "        #receba = []\n",
    "        if brs == \"Brazil\":\n",
    "            if fifa_df['SM'][br] >= 4:\n",
    "                #receba.append(brs)\n",
    "                #receba.append(fifa_df['Name'][br])\n",
    "                #receba.append(fifa_df['Club'][br])\n",
    "                #receba.append(fifa_df['Age'][br])\n",
    "                #receba.append(fifa_df['PAC'][br])\n",
    "                #receba.append(fifa_df['SM'][br])\n",
    "                #receba.append(\"BRASIL É O MELHOR DO MUNDO RECEBA\")\n",
    "                receba = {\n",
    "                    \"Jogador\": fifa_df['Name'][br],\n",
    "                    \"Posição\": fifa_df['Position'][br],\n",
    "                    \"Estrelas de Drible\": fifa_df['SM'][br],\n",
    "                }\n",
    "                print(receba)\n",
    "jogadores_br()"
   ]
  },
  {
   "cell_type": "markdown",
   "id": "4688d862",
   "metadata": {},
   "source": [
    "## Verificando quais são as colunas que existem no DF"
   ]
  },
  {
   "cell_type": "code",
   "execution_count": null,
   "id": "9bc28c55",
   "metadata": {},
   "outputs": [],
   "source": [
    "fifa_df.columns"
   ]
  },
  {
   "cell_type": "markdown",
   "id": "8583448e",
   "metadata": {},
   "source": [
    "##### Decoder int64"
   ]
  },
  {
   "cell_type": "code",
   "execution_count": null,
   "id": "d476af1b",
   "metadata": {},
   "outputs": [],
   "source": [
    "import json\n",
    "import numpy as np\n",
    "\n",
    "\n",
    "class NpEncoder(json.JSONEncoder):\n",
    "    def default(self, obj):\n",
    "        if isinstance(obj, np.integer):\n",
    "            return int(obj)\n",
    "        if isinstance(obj, np.floating):\n",
    "            return float(obj)\n",
    "        if isinstance(obj, np.ndarray):\n",
    "            return obj.tolist()\n",
    "        return super(NpEncoder, self).default(obj)\n"
   ]
  },
  {
   "cell_type": "markdown",
   "id": "7a12138d",
   "metadata": {},
   "source": [
    "##### Fazendo tratativa e pegando apenas jogadores com drible acima de 85 e não podem ser na posição de Goleiro 🧤"
   ]
  },
  {
   "cell_type": "code",
   "execution_count": null,
   "id": "7df610fc",
   "metadata": {},
   "outputs": [],
   "source": [
    "import json\n",
    "\n",
    "\n",
    "def dibradores_apenas():\n",
    "    drible = fifa_df['DRI']\n",
    "    for dibre, dibrador in enumerate(drible):\n",
    "        #dibradores = []\n",
    "        if dibrador > 85:\n",
    "            if fifa_df['Position'][dibre] != \"GK\":\n",
    "                # dibradores.append(dibrador)\n",
    "                # dibradores.append(fifa_df['Age'][dibre])\n",
    "                dados = {\n",
    "                    \"Nome\": fifa_df['Name'][dibre],\n",
    "                    \"Idade\": fifa_df['Age'][dibre],\n",
    "                    \"Clube\": fifa_df['Club'][dibre],\n",
    "                    \"Posição\": fifa_df['Position'][dibre],\n",
    "                    \"Imagem\": fifa_df['Image'][dibre]\n",
    "                }\n",
    "                json.dumps(dados, cls=NpEncoder)\n",
    "                print(dados)\n",
    "\n",
    "dibradores_apenas()\n"
   ]
  },
  {
   "cell_type": "markdown",
   "id": "0ce56b30",
   "metadata": {},
   "source": [
    "#### Passando o nome do seu jogador, senão for o nome exato ele trás todos que condizem ou estão próximos do nome"
   ]
  },
  {
   "cell_type": "code",
   "execution_count": null,
   "id": "07fe1c78",
   "metadata": {},
   "outputs": [],
   "source": [
    "def nome_do_seu_jogador(nome):\n",
    "    nome = str(nome)\n",
    "    for name, names in enumerate(fifa_df['Name']):\n",
    "        if nome in names:\n",
    "            jogador = {\n",
    "                \"Nome\": fifa_df['Name'][name],\n",
    "                \"Clube\": fifa_df['Club'][name],\n",
    "                \"Idade\": fifa_df['Age'][name],\n",
    "                \"Valor\": fifa_df['Value'][name]\n",
    "            }\n",
    "            print(jogador)\n",
    "nome_do_seu_jogador(\"Ramon\")"
   ]
  },
  {
   "cell_type": "code",
   "execution_count": null,
   "id": "d8c3f9e9",
   "metadata": {},
   "outputs": [],
   "source": [
    "from pyspark.sql import SparkSession\n",
    "spark = SparkSession.builder.getOrCreate()\n",
    "fifa_spark = spark.read.option(\"inferSchema\", \"False\").option(\"header\", \"True\").csv('../data/fifa20.csv')"
   ]
  },
  {
   "cell_type": "code",
   "execution_count": null,
   "id": "3a68517f",
   "metadata": {},
   "outputs": [],
   "source": [
    "from pyspark.sql.functions import max\n",
    "fifa_spark.select(max(\"Age\")).take(1)\n"
   ]
  },
  {
   "cell_type": "code",
   "execution_count": null,
   "id": "672f9936",
   "metadata": {},
   "outputs": [],
   "source": [
    "fifa_spark.filter(\"Age > 30\").take(2)"
   ]
  },
  {
   "cell_type": "code",
   "execution_count": null,
   "id": "ffd12adf",
   "metadata": {},
   "outputs": [],
   "source": [
    "fifa_spark.filter(\"Age > 30\").show(2)\n"
   ]
  },
  {
   "cell_type": "code",
   "execution_count": null,
   "id": "befaebe5",
   "metadata": {},
   "outputs": [],
   "source": [
    "fifa_spark.count()"
   ]
  },
  {
   "cell_type": "code",
   "execution_count": null,
   "id": "b4207d45",
   "metadata": {},
   "outputs": [],
   "source": [
    "fifa_spark.describe().show()"
   ]
  },
  {
   "cell_type": "code",
   "execution_count": null,
   "id": "117e5255",
   "metadata": {},
   "outputs": [],
   "source": [
    "from pyspark.sql.functions import desc, asc, expr\n",
    "\n",
    "fifa_spark.orderBy(expr(\"Age asc\")).show(5)"
   ]
  },
  {
   "cell_type": "code",
   "execution_count": null,
   "id": "c459b8b3",
   "metadata": {},
   "outputs": [],
   "source": [
    "fifa_spark.describe().show()"
   ]
  },
  {
   "cell_type": "code",
   "execution_count": null,
   "id": "122605de",
   "metadata": {},
   "outputs": [],
   "source": [
    "collect_fifa = fifa_spark.collect()\n",
    "for y, x in enumerate(collect_fifa):\n",
    "    if collect_fifa[y]['Country'] == 'Argentina' and collect_fifa[y]['Age'] >= str(30):\n",
    "        print(x)"
   ]
  },
  {
   "cell_type": "code",
   "execution_count": null,
   "id": "bb85e342",
   "metadata": {},
   "outputs": [],
   "source": [
    "fifa_spark = fifa_spark.withColumn('Brzada', fifa_spark['Country']+2)\n",
    "fifa_spark"
   ]
  },
  {
   "cell_type": "code",
   "execution_count": null,
   "id": "db9e0ea4",
   "metadata": {},
   "outputs": [],
   "source": [
    "fifa_spark = fifa_spark.drop('Brzada')\n",
    "fifa_spark"
   ]
  },
  {
   "cell_type": "markdown",
   "id": "6e1345e8",
   "metadata": {},
   "source": [
    "##### Comparação entre os mesmo dados com Spark e Pandas"
   ]
  },
  {
   "cell_type": "code",
   "execution_count": null,
   "id": "3ed46bc6",
   "metadata": {},
   "outputs": [],
   "source": [
    "def jogadores_argentinos_spark():\n",
    "    collect_fifa = fifa_spark.collect()\n",
    "    for y, x in enumerate(collect_fifa):\n",
    "        if collect_fifa[y]['Country'] == 'Argentina' and collect_fifa[y]['Age'] >= str(30):\n",
    "            dados= {\n",
    "                \"Pais\": collect_fifa[y]['Country'],\n",
    "                \"Jogador\": collect_fifa[y]['Name'],\n",
    "                \"Idade\": collect_fifa[y]['Age'],\n",
    "                \"Clube\": collect_fifa[y]['Club']\n",
    "            }\n",
    "            print(dados)\n",
    "jogadores_argentinos_spark()"
   ]
  },
  {
   "cell_type": "code",
   "execution_count": null,
   "id": "acdf3a90",
   "metadata": {},
   "outputs": [],
   "source": [
    "def jogadores_argentinos():\n",
    "    for arg, argentinos in enumerate(fifa_df['Country']):\n",
    "        if argentinos == \"Argentina\":\n",
    "            dados= {\n",
    "                \"Pais\": fifa_df['Country'][arg],\n",
    "                \"Jogador\": fifa_df['Name'][arg],\n",
    "                \"Idade\": fifa_df['Age'][arg],\n",
    "                \"Clube\": fifa_df['Club'][arg]\n",
    "            }\n",
    "            print(dados)\n",
    "jogadores_argentinos()"
   ]
  },
  {
   "cell_type": "code",
   "execution_count": null,
   "id": "2114ff63",
   "metadata": {},
   "outputs": [],
   "source": []
  }
 ],
 "metadata": {
  "kernelspec": {
   "display_name": "Python 3.9.2 64-bit",
   "language": "python",
   "name": "python3"
  },
  "language_info": {
   "codemirror_mode": {
    "name": "ipython",
    "version": 3
   },
   "file_extension": ".py",
   "mimetype": "text/x-python",
   "name": "python",
   "nbconvert_exporter": "python",
   "pygments_lexer": "ipython3",
   "version": "3.9.2"
  },
  "vscode": {
   "interpreter": {
    "hash": "e7370f93d1d0cde622a1f8e1c04877d8463912d04d973331ad4851f04de6915a"
   }
  }
 },
 "nbformat": 4,
 "nbformat_minor": 5
}
