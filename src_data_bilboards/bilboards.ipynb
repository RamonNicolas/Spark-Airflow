{
 "cells": [
  {
   "cell_type": "markdown",
   "id": "8b80f397",
   "metadata": {},
   "source": [
    "### Read CSV with top 100 songs bilboards"
   ]
  },
  {
   "cell_type": "code",
   "execution_count": null,
   "metadata": {},
   "outputs": [],
   "source": [
    "import pandas as pd\n",
    "\n",
    "bilboard_df1 = pd.read_csv(\"../datas/top100.csv\", low_memory=False)\n",
    "bilboard_df2 = pd.read_csv(\"../datas/top100oct.csv\", low_memory=False)\n",
    "bilboard_df1\n"
   ]
  },
  {
   "cell_type": "code",
   "execution_count": null,
   "id": "63b82694",
   "metadata": {},
   "outputs": [],
   "source": [
    "bilboard_df2"
   ]
  },
  {
   "cell_type": "markdown",
   "id": "66c023db",
   "metadata": {},
   "source": [
    "##### Compare 2 DF and print the duplicate items"
   ]
  },
  {
   "cell_type": "code",
   "execution_count": null,
   "id": "515640ef",
   "metadata": {},
   "outputs": [],
   "source": [
    "def duplicate_bilboards():\n",
    "    for song, songs in enumerate(bilboard_df1['title']):\n",
    "        for sound, sounds in enumerate(bilboard_df2['title']):\n",
    "            if songs == sounds:\n",
    "                playlist = {\n",
    "                    \"Musica\": bilboard_df1['title'][sound],\n",
    "                    \"Artista\": bilboard_df2['artist'][sound]\n",
    "                }\n",
    "                print(playlist)\n",
    "duplicate_bilboards()"
   ]
  },
  {
   "cell_type": "markdown",
   "id": "d5034bd6",
   "metadata": {},
   "source": [
    "##### SparkSession create and Read csv"
   ]
  },
  {
   "cell_type": "code",
   "execution_count": null,
   "id": "66c0e772",
   "metadata": {},
   "outputs": [],
   "source": [
    "from pyspark.sql import SparkSession\n",
    "spark = SparkSession.builder.getOrCreate()\n",
    "path = \"../datas/top100oct.csv\"\n",
    "path2 = \"../datas/top100.csv\"\n",
    "bilboard_df1_spark = spark.read.csv(path)\n",
    "bilboard_df1_spark"
   ]
  },
  {
   "cell_type": "markdown",
   "id": "087ecb0a",
   "metadata": {},
   "source": [
    "##### Get all data with Schema context"
   ]
  },
  {
   "cell_type": "code",
   "execution_count": null,
   "id": "ed88c10a",
   "metadata": {},
   "outputs": [],
   "source": [
    "bilboard_df1_spark = spark.read.format(\"csv\").option(\"inferSchema\", \"True\").option(\"header\", \"True\").csv(path)\n",
    "bilboard_df1_spark.collect()"
   ]
  },
  {
   "cell_type": "code",
   "execution_count": null,
   "id": "a855fe93",
   "metadata": {},
   "outputs": [],
   "source": [
    "bilboard_df2_spark = spark.read.format(\"csv\").option(\"inferSchema\", \"True\").option(\"header\", \"True\").csv(path2)\n",
    "bilboard_df2_spark.collect()"
   ]
  },
  {
   "cell_type": "markdown",
   "id": "f81520ea",
   "metadata": {},
   "source": [
    "##### Show schema"
   ]
  },
  {
   "cell_type": "code",
   "execution_count": null,
   "id": "dd1755cb",
   "metadata": {},
   "outputs": [],
   "source": [
    "bilboard_df1_spark.printSchema()"
   ]
  },
  {
   "cell_type": "code",
   "execution_count": null,
   "id": "b2c51fee",
   "metadata": {},
   "outputs": [],
   "source": [
    "bilboard_df2_spark.printSchema()"
   ]
  },
  {
   "cell_type": "code",
   "execution_count": null,
   "id": "9ced3157",
   "metadata": {},
   "outputs": [],
   "source": [
    "type(bilboard_df1_spark)"
   ]
  },
  {
   "cell_type": "code",
   "execution_count": null,
   "id": "b0a5412c",
   "metadata": {},
   "outputs": [],
   "source": [
    "type(bilboard_df1)"
   ]
  },
  {
   "cell_type": "markdown",
   "id": "aa0e4f85",
   "metadata": {},
   "source": [
    "##### Get first 5 lines with array"
   ]
  },
  {
   "cell_type": "code",
   "execution_count": null,
   "id": "4fadca13",
   "metadata": {},
   "outputs": [],
   "source": [
    "bilboard_df1_spark.take(5)"
   ]
  },
  {
   "cell_type": "markdown",
   "id": "7ec859b6",
   "metadata": {},
   "source": [
    "##### Format to show better"
   ]
  },
  {
   "cell_type": "code",
   "execution_count": null,
   "id": "67926f6d",
   "metadata": {},
   "outputs": [],
   "source": [
    "display(bilboard_df1_spark.show(5))"
   ]
  },
  {
   "cell_type": "code",
   "execution_count": null,
   "id": "26adc302",
   "metadata": {},
   "outputs": [],
   "source": [
    "bilboard_df1_spark.count()"
   ]
  },
  {
   "cell_type": "code",
   "execution_count": null,
   "id": "e1a04d68",
   "metadata": {},
   "outputs": [],
   "source": [
    "bilboard_df2_spark.count()"
   ]
  },
  {
   "cell_type": "markdown",
   "id": "3ed94556",
   "metadata": {},
   "source": [
    "##### Turn False inferSchema"
   ]
  },
  {
   "cell_type": "code",
   "execution_count": 2,
   "id": "24bb4cb8",
   "metadata": {},
   "outputs": [
    {
     "ename": "NameError",
     "evalue": "name 'spark' is not defined",
     "output_type": "error",
     "traceback": [
      "\u001b[0;31m---------------------------------------------------------------------------\u001b[0m",
      "\u001b[0;31mNameError\u001b[0m                                 Traceback (most recent call last)",
      "\u001b[1;32m/home/ramon/github/Spark-Airflow/src_data_bilboards/bilboards.ipynb Cell 23'\u001b[0m in \u001b[0;36m<cell line: 1>\u001b[0;34m()\u001b[0m\n\u001b[0;32m----> <a href='vscode-notebook-cell:/home/ramon/github/Spark-Airflow/src_data_bilboards/bilboards.ipynb#ch0000022?line=0'>1</a>\u001b[0m bilboard_df1_spark \u001b[39m=\u001b[39m spark\u001b[39m.\u001b[39mread\u001b[39m.\u001b[39mformat(\u001b[39m\"\u001b[39m\u001b[39mcsv\u001b[39m\u001b[39m\"\u001b[39m)\u001b[39m.\u001b[39moption(\u001b[39m\"\u001b[39m\u001b[39minferSchema\u001b[39m\u001b[39m\"\u001b[39m, \u001b[39m\"\u001b[39m\u001b[39mFalse\u001b[39m\u001b[39m\"\u001b[39m)\u001b[39m.\u001b[39moption(\u001b[39m\"\u001b[39m\u001b[39mheader\u001b[39m\u001b[39m\"\u001b[39m, \u001b[39m\"\u001b[39m\u001b[39mTrue\u001b[39m\u001b[39m\"\u001b[39m)\u001b[39m.\u001b[39mcsv(path)\n\u001b[1;32m      <a href='vscode-notebook-cell:/home/ramon/github/Spark-Airflow/src_data_bilboards/bilboards.ipynb#ch0000022?line=1'>2</a>\u001b[0m bilboard_df1_spark\u001b[39m.\u001b[39mcollect()\n",
      "\u001b[0;31mNameError\u001b[0m: name 'spark' is not defined"
     ]
    }
   ],
   "source": [
    "bilboard_df1_spark = spark.read.format(\"csv\").option(\"inferSchema\", \"False\").option(\"header\", \"True\").csv(path)\n",
    "bilboard_df1_spark.collect()"
   ]
  },
  {
   "cell_type": "markdown",
   "id": "847bc329",
   "metadata": {},
   "source": [
    "##### Pyspark code"
   ]
  },
  {
   "cell_type": "code",
   "execution_count": 1,
   "id": "8d84d21d",
   "metadata": {},
   "outputs": [
    {
     "ename": "NameError",
     "evalue": "name 'bilboard_df1_spark' is not defined",
     "output_type": "error",
     "traceback": [
      "\u001b[0;31m---------------------------------------------------------------------------\u001b[0m",
      "\u001b[0;31mNameError\u001b[0m                                 Traceback (most recent call last)",
      "\u001b[1;32m/home/ramon/github/Spark-Airflow/src_data_bilboards/bilboards.ipynb Cell 25'\u001b[0m in \u001b[0;36m<cell line: 3>\u001b[0;34m()\u001b[0m\n\u001b[1;32m      <a href='vscode-notebook-cell:/home/ramon/github/Spark-Airflow/src_data_bilboards/bilboards.ipynb#ch0000024?line=0'>1</a>\u001b[0m \u001b[39mfrom\u001b[39;00m \u001b[39mpyspark\u001b[39;00m\u001b[39m.\u001b[39;00m\u001b[39msql\u001b[39;00m\u001b[39m.\u001b[39;00m\u001b[39mfunctions\u001b[39;00m \u001b[39mimport\u001b[39;00m \u001b[39m*\u001b[39m\n\u001b[0;32m----> <a href='vscode-notebook-cell:/home/ramon/github/Spark-Airflow/src_data_bilboards/bilboards.ipynb#ch0000024?line=2'>3</a>\u001b[0m bilboard_df1_spark\u001b[39m.\u001b[39morderBy(expr(\u001b[39m\"\u001b[39m\u001b[39mpeak desc\u001b[39m\u001b[39m\"\u001b[39m))\u001b[39m.\u001b[39mshow(\u001b[39m15\u001b[39m)\n",
      "\u001b[0;31mNameError\u001b[0m: name 'bilboard_df1_spark' is not defined"
     ]
    }
   ],
   "source": [
    "from pyspark.sql.functions import *\n",
    "\n",
    "bilboard_df1_spark.orderBy(expr(\"peak desc\")).show(15)\n"
   ]
  },
  {
   "cell_type": "code",
   "execution_count": null,
   "id": "867ee542",
   "metadata": {},
   "outputs": [],
   "source": [
    "bilboard_df1_spark.orderBy(expr(\"artist asc\")).show(15)"
   ]
  },
  {
   "cell_type": "code",
   "execution_count": null,
   "id": "c3719203",
   "metadata": {},
   "outputs": [],
   "source": [
    "display(bilboard_df1_spark.select(\"artist\").show(10))"
   ]
  },
  {
   "cell_type": "markdown",
   "id": "d2f7fff3",
   "metadata": {},
   "source": [
    "#### Using filter + order by"
   ]
  },
  {
   "cell_type": "code",
   "execution_count": null,
   "id": "dad43bb1",
   "metadata": {},
   "outputs": [],
   "source": [
    "display(bilboard_df1_spark.filter(\"this_week_chart > 4\").orderBy(expr(\"title asc\")).show(10))"
   ]
  },
  {
   "cell_type": "markdown",
   "id": "497416ef",
   "metadata": {},
   "source": [
    "##### Rename column in data frame"
   ]
  },
  {
   "cell_type": "code",
   "execution_count": null,
   "id": "9bb308f8",
   "metadata": {},
   "outputs": [],
   "source": [
    "bilboard_df1_spark = bilboard_df1_spark.withColumnRenamed(\"artist\", \"Artista\").withColumnRenamed(\"title\", \"Musica\").withColumnRenamed(\n",
    "    \"this_week_chart\", \"TocadasNaSemana\").withColumnRenamed(\"last_week_chart\", \"TocadasSemanaPassada\").withColumnRenamed(\"peak\", \"Pico\").withColumnRenamed(\"weeks_on_chart\", \"GraficoSemanal\")\n",
    "bilboard_df1_spark.show()\n"
   ]
  },
  {
   "cell_type": "markdown",
   "id": "511f07f4",
   "metadata": {},
   "source": [
    "##### ADD Column in dataFrame"
   ]
  },
  {
   "cell_type": "code",
   "execution_count": null,
   "id": "a5ffc1e1",
   "metadata": {},
   "outputs": [],
   "source": [
    "bilboard_df1_spark = bilboard_df1_spark.withColumn(\"product\", bilboard_df1_spark['Pico']*100).show(10)"
   ]
  },
  {
   "cell_type": "markdown",
   "id": "c957e7bd",
   "metadata": {},
   "source": [
    "##### Drop column"
   ]
  },
  {
   "cell_type": "code",
   "execution_count": null,
   "id": "9f0de71c",
   "metadata": {},
   "outputs": [],
   "source": [
    "#bilboard_df1_spark = bilboard_df1_spark.drop(\"Valor\").show(10)"
   ]
  },
  {
   "cell_type": "code",
   "execution_count": null,
   "id": "3ea5e912",
   "metadata": {},
   "outputs": [],
   "source": [
    "display(bilboard_df1_spark.show(50))"
   ]
  }
 ],
 "metadata": {
  "kernelspec": {
   "display_name": "Python 3.9.2 64-bit",
   "language": "python",
   "name": "python3"
  },
  "language_info": {
   "codemirror_mode": {
    "name": "ipython",
    "version": 3
   },
   "file_extension": ".py",
   "mimetype": "text/x-python",
   "name": "python",
   "nbconvert_exporter": "python",
   "pygments_lexer": "ipython3",
   "version": "3.9.2"
  },
  "vscode": {
   "interpreter": {
    "hash": "e7370f93d1d0cde622a1f8e1c04877d8463912d04d973331ad4851f04de6915a"
   }
  }
 },
 "nbformat": 4,
 "nbformat_minor": 5
}
