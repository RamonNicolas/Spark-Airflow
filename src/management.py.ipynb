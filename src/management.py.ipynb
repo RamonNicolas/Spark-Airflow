{
 "cells": [
  {
   "cell_type": "markdown",
   "id": "9fb75751",
   "metadata": {},
   "source": [
    "## Iniciando Spark"
   ]
  },
  {
   "cell_type": "code",
   "execution_count": null,
   "id": "95bdab46",
   "metadata": {},
   "outputs": [],
   "source": [
    "# Get DF\n",
    "from pyspark.sql import SparkSession\n",
    "spark = SparkSession.builder.getOrCreate()"
   ]
  },
  {
   "cell_type": "markdown",
   "id": "0ebf2a36",
   "metadata": {},
   "source": [
    "\n",
    "#### Ecrever, alterar e mexer nos dados, sem alterar o original."
   ]
  },
  {
   "cell_type": "code",
   "execution_count": null,
   "id": "d57d0936",
   "metadata": {},
   "outputs": [],
   "source": [
    "from datetime import datetime, date\n",
    "import pandas as pd\n",
    "from pyspark.sql import Row, DataFrameReader\n",
    "\n",
    "fifa_df = pd.read_csv(\"../data/fifa20.csv\", )\n",
    "fifa_df_name = fifa_df['Name']\n",
    "fifa_df_image = fifa_df['Image']\n",
    "fifa_spark = spark.read.format('csv').load('../data/fifa20.csv')"
   ]
  },
  {
   "cell_type": "markdown",
   "id": "7ce549b9",
   "metadata": {},
   "source": [
    "##### Trocando a imagem do DF novo denominado fifa_df na posição do nome para uma imagem engraçada, sem alterar o DF original."
   ]
  },
  {
   "cell_type": "code",
   "execution_count": null,
   "id": "11c6960e",
   "metadata": {},
   "outputs": [],
   "source": [
    "def troca_imagem_messi():\n",
    "    for name, names in enumerate(fifa_df_name):\n",
    "        if names == \"Lionel Messi\":\n",
    "            messicareca = \"https://i.pinimg.com/280x280_RS/92/f2/9d/92f29ddb610a258421da8f5261f099d6.jpg\"\n",
    "            fifa_df_image[name] = messicareca\n",
    "            print(f\"{names} Imagem {fifa_df_image[name]}\")\n",
    "troca_imagem_messi()"
   ]
  },
  {
   "cell_type": "markdown",
   "id": "633a734c",
   "metadata": {},
   "source": [
    "##### Trocando a imagem do DF novo denominado fifa_df na posição do nome para uma imagem engraçada, sem alterar o DF original."
   ]
  },
  {
   "cell_type": "code",
   "execution_count": null,
   "id": "01f4246b",
   "metadata": {},
   "outputs": [],
   "source": [
    "def troca_imagem_cr7():\n",
    "    cr7_facao = \"https://yt3.ggpht.com/7FnNlf1g2ixEYssNuKlkEjgsycrX0ojQq2cuxBcRPkTc0v_1iEPY79hGk4OBKLY6DTJkSJFB=s900-c-k-c0x00ffffff-no-rj\"\n",
    "    for name, names in enumerate(fifa_df_name):\n",
    "        if names == \"C. Ronaldo dos Santos Aveiro\":\n",
    "            fifa_df_image[name] = cr7_facao\n",
    "            print(f\"{names} Imagem {fifa_df_image[name]}\")\n",
    "troca_imagem_cr7()"
   ]
  },
  {
   "cell_type": "markdown",
   "id": "5fd1b406",
   "metadata": {},
   "source": [
    "##### Pegando somente jogadores Argentinos"
   ]
  },
  {
   "cell_type": "code",
   "execution_count": null,
   "id": "cc8ae341",
   "metadata": {},
   "outputs": [],
   "source": [
    "def jogadores_argentinos():\n",
    "    paises = fifa_df['Country']\n",
    "    fifa_df_name = fifa_df['Name']\n",
    "    for arg, argentinos in enumerate(paises):\n",
    "        hermanos = []\n",
    "        if argentinos == \"Argentina\":\n",
    "            hermanos.append(argentinos)\n",
    "            hermanos.append(fifa_df_name[arg])\n",
    "            hermanos.append(fifa_df_image[arg])\n",
    "            hermanos.append(fifa_df['Age'][arg])\n",
    "            hermanos.append(fifa_df['Club'][arg])\n",
    "            print(hermanos)\n",
    "jogadores_argentinos()"
   ]
  },
  {
   "cell_type": "markdown",
   "id": "11407999",
   "metadata": {},
   "source": [
    "##### Pegando somente jogadores do Brasil, appendando uma string no final de todos os jogadores, que possuem \"SM\" acima ou igual 4. Sendo o máximo 5"
   ]
  },
  {
   "cell_type": "code",
   "execution_count": null,
   "id": "ee1d2e71",
   "metadata": {},
   "outputs": [],
   "source": [
    "def jogadores_br():\n",
    "    paises = fifa_df['Country']\n",
    "    for br, brs in enumerate(paises):\n",
    "        receba = []\n",
    "        if brs == \"Brazil\":\n",
    "            if fifa_df['SM'][br] >= 4:\n",
    "                receba.append(brs)\n",
    "                receba.append(fifa_df['Name'][br])\n",
    "                receba.append(fifa_df['Club'][br])\n",
    "                receba.append(fifa_df['Age'][br])\n",
    "                receba.append(fifa_df['PAC'][br])\n",
    "                receba.append(fifa_df['SM'][br])\n",
    "                receba.append(\"BRASIL É O MELHOR DO MUNDO RECEBA\")\n",
    "                print(receba)\n",
    "jogadores_br()"
   ]
  },
  {
   "cell_type": "markdown",
   "id": "4688d862",
   "metadata": {},
   "source": [
    "## Verificando quais são as colunas que existem no DF"
   ]
  },
  {
   "cell_type": "code",
   "execution_count": 216,
   "id": "9bc28c55",
   "metadata": {},
   "outputs": [
    {
     "data": {
      "text/plain": [
       "Index(['Name', 'Image', 'Country', 'Position', 'Age', 'Overall', 'Potential',\n",
       "       'Club', 'ID', 'Height', 'Weight', 'foot', 'BOV', 'BP', 'Growth',\n",
       "       'Joined', 'Loan Date End', 'Value', 'Wage', 'Release Clause',\n",
       "       'Attacking', 'Crossing', 'Finishing', 'Heading Accuracy',\n",
       "       'Short Passing', 'Volleys', 'Skill', 'Dribbling', 'Curve',\n",
       "       'FK Accuracy', 'Long Passing', 'Ball Control', 'Movement',\n",
       "       'Acceleration', 'Sprint Speed', 'Agility', 'Reactions', 'Balance',\n",
       "       'Power', 'Shot Power', 'Jumping', 'Stamina', 'Strength', 'Long Shots',\n",
       "       'Mentality', 'Aggression', 'Interceptions', 'Positioning', 'Vision',\n",
       "       'Penalties', 'Composure', 'Defending', 'Marking', 'Standing Tackle',\n",
       "       'Sliding Tackle', 'Goalkeeping', 'GK Diving', 'GK Handling',\n",
       "       'GK Kicking', 'GK Positioning', 'GK Reflexes', 'Total Stats',\n",
       "       'Base Stats', 'W/F', 'SM', 'A/W', 'D/W', 'IR', 'PAC', 'SHO', 'PAS',\n",
       "       'DRI', 'DEF', 'PHY', 'Hits'],\n",
       "      dtype='object')"
      ]
     },
     "execution_count": 216,
     "metadata": {},
     "output_type": "execute_result"
    }
   ],
   "source": [
    "fifa_df.columns"
   ]
  },
  {
   "cell_type": "markdown",
   "id": "8583448e",
   "metadata": {},
   "source": [
    "##### Decoder int64"
   ]
  },
  {
   "cell_type": "code",
   "execution_count": null,
   "id": "d476af1b",
   "metadata": {},
   "outputs": [],
   "source": [
    "import json\n",
    "import numpy as np\n",
    "\n",
    "\n",
    "class NpEncoder(json.JSONEncoder):\n",
    "    def default(self, obj):\n",
    "        if isinstance(obj, np.integer):\n",
    "            return int(obj)\n",
    "        if isinstance(obj, np.floating):\n",
    "            return float(obj)\n",
    "        if isinstance(obj, np.ndarray):\n",
    "            return obj.tolist()\n",
    "        return super(NpEncoder, self).default(obj)\n"
   ]
  },
  {
   "cell_type": "markdown",
   "id": "7a12138d",
   "metadata": {},
   "source": [
    "##### Fazendo tratativa e pegando apenas jogadores com drible acima de 85 e não podem ser na posição de Goleiro 🧤"
   ]
  },
  {
   "cell_type": "code",
   "execution_count": 215,
   "id": "7df610fc",
   "metadata": {},
   "outputs": [
    {
     "name": "stdout",
     "output_type": "stream",
     "text": [
      "{'Nome': 'Lionel Messi', 'Idade': 32, 'Clube': 'FC Barcelona', 'Posição': 'RW,CF,ST', 'Imagem': 'https://i.pinimg.com/280x280_RS/92/f2/9d/92f29ddb610a258421da8f5261f099d6.jpg'}\n",
      "{'Nome': 'C. Ronaldo dos Santos Aveiro', 'Idade': 34, 'Clube': 'Juventus', 'Posição': 'ST,LW', 'Imagem': '../data/cr7_facao.jpg'}\n",
      "{'Nome': 'Neymar da Silva Santos Jr.', 'Idade': 27, 'Clube': 'Paris Saint-Germain', 'Posição': 'LW,CAM', 'Imagem': 'https://cdn.sofifa.org/players/4/20/190871.png'}\n",
      "{'Nome': 'Kevin De Bruyne', 'Idade': 28, 'Clube': 'Manchester City', 'Posição': 'CAM,CM', 'Imagem': 'https://cdn.sofifa.org/players/4/20/192985.png'}\n",
      "{'Nome': 'Eden Hazard', 'Idade': 28, 'Clube': 'Real Madrid', 'Posição': 'LW,CF', 'Imagem': 'https://cdn.sofifa.org/players/4/20/183277.png'}\n",
      "{'Nome': 'Mohamed Salah', 'Idade': 27, 'Clube': 'Liverpool', 'Posição': 'RW,ST', 'Imagem': 'https://cdn.sofifa.org/players/4/20/209331.png'}\n",
      "{'Nome': 'Luka Modrić', 'Idade': 33, 'Clube': 'Real Madrid', 'Posição': 'CM', 'Imagem': 'https://cdn.sofifa.org/players/4/20/177003.png'}\n",
      "{'Nome': 'Kylian Mbappé', 'Idade': 20, 'Clube': 'Paris Saint-Germain', 'Posição': 'ST,RW', 'Imagem': 'https://cdn.sofifa.org/players/4/20/231747.png'}\n",
      "{'Nome': 'Antoine Griezmann', 'Idade': 28, 'Clube': 'FC Barcelona', 'Posição': 'CF,ST,LW', 'Imagem': 'https://cdn.sofifa.org/players/4/20/194765.png'}\n",
      "{'Nome': 'Sergio Agüero', 'Idade': 31, 'Clube': 'Manchester City', 'Posição': 'ST', 'Imagem': 'https://cdn.sofifa.org/players/4/20/153079.png'}\n",
      "{'Nome': 'Paulo Dybala', 'Idade': 25, 'Clube': 'Juventus', 'Posição': 'CAM,RW', 'Imagem': 'https://cdn.sofifa.org/players/4/20/211110.png'}\n",
      "{'Nome': 'Sadio Mané', 'Idade': 27, 'Clube': 'Liverpool', 'Posição': 'LW,LM', 'Imagem': 'https://cdn.sofifa.org/players/4/20/208722.png'}\n",
      "{'Nome': 'Raheem Sterling', 'Idade': 24, 'Clube': 'Manchester City', 'Posição': 'RW,LW', 'Imagem': 'https://cdn.sofifa.org/players/4/20/202652.png'}\n",
      "{'Nome': 'Marco Reus', 'Idade': 30, 'Clube': 'Borussia Dortmund', 'Posição': 'CAM,LM,ST', 'Imagem': 'https://cdn.sofifa.org/players/4/20/188350.png'}\n",
      "{'Nome': 'David Josué Jiménez Silva', 'Idade': 33, 'Clube': 'Manchester City', 'Posição': 'CAM,CM', 'Imagem': 'https://cdn.sofifa.org/players/4/20/168542.png'}\n",
      "{'Nome': 'Bernardo Mota Carvalho e Silva', 'Idade': 24, 'Clube': 'Manchester City', 'Posição': 'RW,CAM,CM', 'Imagem': 'https://cdn.sofifa.org/players/4/20/218667.png'}\n",
      "{'Nome': 'Heung Min Son', 'Idade': 26, 'Clube': 'Tottenham Hotspur', 'Posição': 'CF,LM', 'Imagem': 'https://cdn.sofifa.org/players/4/20/200104.png'}\n",
      "{'Nome': 'Lorenzo Insigne', 'Idade': 28, 'Clube': 'Napoli', 'Posição': 'CF,LW,ST', 'Imagem': 'https://cdn.sofifa.org/players/4/20/198219.png'}\n",
      "{'Nome': 'Thiago Alcântara', 'Idade': 28, 'Clube': 'FC Bayern München', 'Posição': 'CM,CAM,CDM', 'Imagem': 'https://cdn.sofifa.org/players/4/20/189509.png'}\n",
      "{'Nome': 'Dries Mertens', 'Idade': 32, 'Clube': 'Napoli', 'Posição': 'CF,ST', 'Imagem': 'https://cdn.sofifa.org/players/4/20/175943.png'}\n",
      "{'Nome': 'Karim Benzema', 'Idade': 31, 'Clube': 'Real Madrid', 'Posição': 'CF,ST', 'Imagem': 'https://cdn.sofifa.org/players/4/20/165153.png'}\n",
      "{'Nome': 'Leroy Sané', 'Idade': 23, 'Clube': 'Manchester City', 'Posição': 'LW', 'Imagem': 'https://cdn.sofifa.org/players/4/20/222492.png'}\n",
      "{'Nome': 'Roberto Firmino Barbosa de Oliveira', 'Idade': 27, 'Clube': 'Liverpool', 'Posição': 'CF,ST,CAM', 'Imagem': 'https://cdn.sofifa.org/players/4/20/201942.png'}\n",
      "{'Nome': 'Marco Verratti', 'Idade': 26, 'Clube': 'Paris Saint-Germain', 'Posição': 'CM,CDM', 'Imagem': 'https://cdn.sofifa.org/players/4/20/199556.png'}\n",
      "{'Nome': 'Francisco Román Alarcón Suárez', 'Idade': 27, 'Clube': 'Real Madrid', 'Posição': 'CAM,CM,LW', 'Imagem': 'https://cdn.sofifa.org/players/4/20/197781.png'}\n",
      "{'Nome': 'Alexandre Lacazette', 'Idade': 28, 'Clube': 'Arsenal', 'Posição': 'ST', 'Imagem': 'https://cdn.sofifa.org/players/4/20/193301.png'}\n",
      "{'Nome': 'Philippe Coutinho Correia', 'Idade': 27, 'Clube': 'FC Bayern München', 'Posição': 'LW,CM', 'Imagem': 'https://cdn.sofifa.org/players/4/20/189242.png'}\n",
      "{'Nome': 'Ángel Di María', 'Idade': 31, 'Clube': 'Paris Saint-Germain', 'Posição': 'RW,LW', 'Imagem': 'https://cdn.sofifa.org/players/4/20/183898.png'}\n",
      "{'Nome': 'Frenkie de Jong', 'Idade': 22, 'Clube': 'FC Barcelona', 'Posição': 'CM,CDM', 'Imagem': 'https://cdn.sofifa.org/players/4/20/228702.png'}\n",
      "{'Nome': 'James Rodríguez', 'Idade': 27, 'Clube': 'Real Madrid', 'Posição': 'CAM,CM,RM', 'Imagem': 'https://cdn.sofifa.org/players/4/20/198710.png'}\n",
      "{'Nome': 'Marcelo Vieira da Silva', 'Idade': 31, 'Clube': 'Real Madrid', 'Posição': 'LB', 'Imagem': 'https://cdn.sofifa.org/players/4/20/176676.png'}\n",
      "{'Nome': 'Alejandro Gómez', 'Idade': 31, 'Clube': 'Atalanta', 'Posição': 'CAM,CF,ST', 'Imagem': 'https://cdn.sofifa.org/players/4/20/143076.png'}\n",
      "{'Nome': 'Jadon Sancho', 'Idade': 19, 'Clube': 'Borussia Dortmund', 'Posição': 'RM,LM', 'Imagem': 'https://cdn.sofifa.org/players/4/20/233049.png'}\n",
      "{'Nome': 'Ousmane Dembélé', 'Idade': 22, 'Clube': 'FC Barcelona', 'Posição': 'RW,LW', 'Imagem': 'https://cdn.sofifa.org/players/4/20/231443.png'}\n",
      "{'Nome': 'Arthur Henrique Ramos Oliveira Melo', 'Idade': 22, 'Clube': 'FC Barcelona', 'Posição': 'CM', 'Imagem': 'https://cdn.sofifa.org/players/4/20/230658.png'}\n",
      "{'Nome': 'Nabil Fekir', 'Idade': 25, 'Clube': 'Real Betis', 'Posição': 'CAM', 'Imagem': 'https://cdn.sofifa.org/players/4/20/216594.png'}\n",
      "{'Nome': 'Kingsley Coman', 'Idade': 23, 'Clube': 'FC Bayern München', 'Posição': 'LM,RM,LW', 'Imagem': 'https://cdn.sofifa.org/players/4/20/213345.png'}\n",
      "{'Nome': 'Serge Gnabry', 'Idade': 23, 'Clube': 'FC Bayern München', 'Posição': 'RM,LM,LW', 'Imagem': 'https://cdn.sofifa.org/players/4/20/206113.png'}\n",
      "{'Nome': 'Riyad Mahrez', 'Idade': 28, 'Clube': 'Manchester City', 'Posição': 'RW,RM', 'Imagem': 'https://cdn.sofifa.org/players/4/20/204485.png'}\n",
      "{'Nome': 'Felipe Anderson Pereira Gomes', 'Idade': 26, 'Clube': 'West Ham United', 'Posição': 'LM', 'Imagem': 'https://cdn.sofifa.org/players/4/20/201995.png'}\n",
      "{'Nome': 'Douglas Costa de Souza', 'Idade': 28, 'Clube': 'Juventus', 'Posição': 'LM,RW,LW', 'Imagem': 'https://cdn.sofifa.org/players/4/20/190483.png'}\n",
      "{'Nome': 'Federico Bernardeschi', 'Idade': 25, 'Clube': 'Juventus', 'Posição': 'RM,CAM', 'Imagem': 'https://cdn.sofifa.org/players/4/20/212404.png'}\n",
      "{'Nome': 'Anthony Martial', 'Idade': 23, 'Clube': 'Manchester United', 'Posição': 'LW,ST,LM', 'Imagem': 'https://cdn.sofifa.org/players/4/20/211300.png'}\n",
      "{'Nome': 'Yannick Carrasco', 'Idade': 25, 'Clube': 'Dalian YiFang FC', 'Posição': 'LM', 'Imagem': 'https://cdn.sofifa.org/players/4/20/208418.png'}\n",
      "{'Nome': 'Julian Draxler', 'Idade': 25, 'Clube': 'Paris Saint-Germain', 'Posição': 'CAM,CM,LW', 'Imagem': 'https://cdn.sofifa.org/players/4/20/202166.png'}\n",
      "{'Nome': 'Lucas Rodrigues M. Silva', 'Idade': 26, 'Clube': 'Tottenham Hotspur', 'Posição': 'CF,RM,LM', 'Imagem': 'https://cdn.sofifa.org/players/4/20/200949.png'}\n",
      "{'Nome': 'Wilfried Zaha', 'Idade': 26, 'Clube': 'Crystal Palace', 'Posição': 'CF,LM,LW', 'Imagem': 'https://cdn.sofifa.org/players/4/20/198717.png'}\n",
      "{'Nome': 'Kevin Kampl', 'Idade': 28, 'Clube': 'RB Leipzig', 'Posição': 'CM,CAM,CDM', 'Imagem': 'https://cdn.sofifa.org/players/4/20/195365.png'}\n",
      "{'Nome': 'Juan Cuadrado', 'Idade': 31, 'Clube': 'Juventus', 'Posição': 'RM,RW', 'Imagem': 'https://cdn.sofifa.org/players/4/20/193082.png'}\n",
      "{'Nome': 'Andrés Iniesta Luján', 'Idade': 35, 'Clube': 'Vissel Kobe', 'Posição': 'CM,LM,CAM', 'Imagem': 'https://cdn.sofifa.org/players/4/20/41.png'}\n",
      "{'Nome': 'Gabriel Fernando de Jesus', 'Idade': 22, 'Clube': 'Manchester City', 'Posição': 'ST', 'Imagem': 'https://cdn.sofifa.org/players/4/20/230666.png'}\n",
      "{'Nome': 'Naby Keïta', 'Idade': 24, 'Clube': 'Liverpool', 'Posição': 'CM,CDM', 'Imagem': 'https://cdn.sofifa.org/players/4/20/220971.png'}\n",
      "{'Nome': 'Rafael A. Ferreira Silva', 'Idade': 26, 'Clube': 'SL Benfica', 'Posição': 'LM,RM', 'Imagem': 'https://cdn.sofifa.org/players/4/20/216547.png'}\n",
      "{'Nome': 'Ángel Correa', 'Idade': 24, 'Clube': 'Atlético Madrid', 'Posição': 'RM,ST', 'Imagem': 'https://cdn.sofifa.org/players/4/20/214997.png'}\n",
      "{'Nome': 'Mateo Kovačić', 'Idade': 25, 'Clube': 'Chelsea', 'Posição': 'CM', 'Imagem': 'https://cdn.sofifa.org/players/4/20/207410.png'}\n",
      "{'Nome': 'Thorgan Hazard', 'Idade': 26, 'Clube': 'Borussia Dortmund', 'Posição': 'RM,LM,CF', 'Imagem': 'https://cdn.sofifa.org/players/4/20/203486.png'}\n",
      "{'Nome': 'Jesús Joaquín Fernández Sáez', 'Idade': 25, 'Clube': 'Milan', 'Posição': 'RW,CF', 'Imagem': 'https://cdn.sofifa.org/players/4/20/202651.png'}\n",
      "{'Nome': 'Mario Götze', 'Idade': 27, 'Clube': 'Borussia Dortmund', 'Posição': 'CF,CAM,CM', 'Imagem': 'https://cdn.sofifa.org/players/4/20/192318.png'}\n",
      "{'Nome': 'Iker Muniain Goñi', 'Idade': 26, 'Clube': 'Athletic Club de Bilbao', 'Posição': 'CAM,LW', 'Imagem': 'https://cdn.sofifa.org/players/4/20/189575.png'}\n",
      "{'Nome': 'Taison Barcellos Freda', 'Idade': 31, 'Clube': 'Shakhtar Donetsk', 'Posição': 'CAM,LM', 'Imagem': 'https://cdn.sofifa.org/players/4/20/188803.png'}\n",
      "{'Nome': 'Marlos Romero Bonfim', 'Idade': 31, 'Clube': 'Shakhtar Donetsk', 'Posição': 'RM,CAM', 'Imagem': 'https://cdn.sofifa.org/players/4/20/187754.png'}\n",
      "{'Nome': 'David Neres Campos', 'Idade': 22, 'Clube': 'Ajax', 'Posição': 'LW,RW,CAM', 'Imagem': 'https://cdn.sofifa.org/players/4/20/236632.png'}\n",
      "{'Nome': 'Tanguy Ndombele', 'Idade': 22, 'Clube': 'Tottenham Hotspur', 'Posição': 'CM,CDM', 'Imagem': 'https://cdn.sofifa.org/players/4/20/235569.png'}\n",
      "{'Nome': 'Gelson Dany Batalha Martins', 'Idade': 24, 'Clube': 'AS Monaco', 'Posição': 'RM,RW', 'Imagem': 'https://cdn.sofifa.org/players/4/20/227055.png'}\n",
      "{'Nome': 'Marcos Acuña', 'Idade': 27, 'Clube': 'Sporting CP', 'Posição': 'LW,LB', 'Imagem': 'https://cdn.sofifa.org/players/4/20/224334.png'}\n",
      "{'Nome': 'Jesús Corona', 'Idade': 26, 'Clube': 'FC Porto', 'Posição': 'RM,RB', 'Imagem': 'https://cdn.sofifa.org/players/4/20/193165.png'}\n",
      "{'Nome': 'Sebastian Giovinco', 'Idade': 32, 'Clube': 'Al Hilal', 'Posição': 'CF,ST,RM', 'Imagem': 'https://cdn.sofifa.org/players/4/20/184431.png'}\n",
      "{'Nome': 'Mousa Dembélé', 'Idade': 31, 'Clube': 'Guangzhou R&F FC', 'Posição': 'CM,CAM,CDM', 'Imagem': 'https://cdn.sofifa.org/players/4/20/162240.png'}\n",
      "{'Nome': 'Ricardo Andrade Quaresma Bernardo', 'Idade': 35, 'Clube': 'Kasimpaşa SK', 'Posição': 'RM,LM', 'Imagem': 'https://cdn.sofifa.org/players/4/20/20775.png'}\n",
      "{'Nome': 'Gerard Deulofeu Lázaro', 'Idade': 25, 'Clube': 'Watford', 'Posição': 'CF,LW,LM', 'Imagem': 'https://cdn.sofifa.org/players/4/20/202477.png'}\n",
      "{'Nome': 'Diego Perotti', 'Idade': 30, 'Clube': 'Roma', 'Posição': 'LW,LM', 'Imagem': 'https://cdn.sofifa.org/players/4/20/183900.png'}\n",
      "{'Nome': 'Luís Carlos Almeida da Cunha', 'Idade': 32, 'Clube': 'Orlando City SC', 'Posição': 'LW,RW', 'Imagem': 'https://cdn.sofifa.org/players/4/20/139068.png'}\n",
      "{'Nome': 'Allan Saint-Maximin', 'Idade': 22, 'Clube': 'Newcastle United', 'Posição': 'RW,LW,ST', 'Imagem': 'https://cdn.sofifa.org/players/4/20/216388.png'}\n",
      "{'Nome': 'Amin Younes', 'Idade': 25, 'Clube': 'Napoli', 'Posição': 'LM,LW', 'Imagem': 'https://cdn.sofifa.org/players/4/20/205966.png'}\n",
      "{'Nome': 'Sofiane Boufal', 'Idade': 25, 'Clube': 'Southampton', 'Posição': 'LM,LW', 'Imagem': 'https://cdn.sofifa.org/players/4/20/211381.png'}\n"
     ]
    }
   ],
   "source": [
    "import json\n",
    "\n",
    "\n",
    "def dibradores_apenas():\n",
    "    drible = fifa_df['DRI']\n",
    "    for dibre, dibrador in enumerate(drible):\n",
    "        #dibradores = []\n",
    "        if dibrador > 85:\n",
    "            if fifa_df['Position'][dibre] != \"GK\":\n",
    "                # dibradores.append(dibrador)\n",
    "                # dibradores.append(fifa_df['Age'][dibre])\n",
    "                dados = {\n",
    "                    \"Nome\": fifa_df['Name'][dibre],\n",
    "                    \"Idade\": fifa_df['Age'][dibre],\n",
    "                    \"Clube\": fifa_df['Club'][dibre],\n",
    "                    \"Posição\": fifa_df['Position'][dibre],\n",
    "                    \"Imagem\": fifa_df['Image'][dibre]\n",
    "                }\n",
    "                json.dumps(dados, cls=NpEncoder)\n",
    "                print(dados)\n",
    "\n",
    "dibradores_apenas()\n"
   ]
  },
  {
   "cell_type": "code",
   "execution_count": 244,
   "id": "07fe1c78",
   "metadata": {},
   "outputs": [
    {
     "name": "stdout",
     "output_type": "stream",
     "text": [
      "{'Nome': 'Lionel Messi', 'Clube': 'FC Barcelona', 'Idade': 32, 'Valor': '€95.5M'}\n",
      "{'Nome': 'Fabrício dos Santos Messias', 'Clube': 'Urawa Red Diamonds', 'Idade': 29, 'Valor': '€5.5M'}\n",
      "{'Nome': 'Messias Rodrigues Silva Jr.', 'Clube': 'Rio Ave FC', 'Idade': 24, 'Valor': '€1.4M'}\n",
      "{'Nome': 'Junior Messias', 'Clube': 'Crotone', 'Idade': 28, 'Valor': '€210K'}\n"
     ]
    }
   ],
   "source": [
    "def nome_do_seu_jogador(nome):\n",
    "    nome = str(nome)\n",
    "    for name, names in enumerate(fifa_df['Name']):\n",
    "        if nome in names:\n",
    "            jogador = {\n",
    "                \"Nome\": fifa_df['Name'][name],\n",
    "                \"Clube\": fifa_df['Club'][name],\n",
    "                \"Idade\": fifa_df['Age'][name],\n",
    "                \"Valor\": fifa_df['Value'][name]\n",
    "            }\n",
    "            print(jogador)\n",
    "nome_do_seu_jogador(\"Messi\")"
   ]
  }
 ],
 "metadata": {
  "kernelspec": {
   "display_name": "Python 3.9.2 64-bit",
   "language": "python",
   "name": "python3"
  },
  "language_info": {
   "codemirror_mode": {
    "name": "ipython",
    "version": 3
   },
   "file_extension": ".py",
   "mimetype": "text/x-python",
   "name": "python",
   "nbconvert_exporter": "python",
   "pygments_lexer": "ipython3",
   "version": "3.9.2"
  },
  "vscode": {
   "interpreter": {
    "hash": "e7370f93d1d0cde622a1f8e1c04877d8463912d04d973331ad4851f04de6915a"
   }
  }
 },
 "nbformat": 4,
 "nbformat_minor": 5
}
